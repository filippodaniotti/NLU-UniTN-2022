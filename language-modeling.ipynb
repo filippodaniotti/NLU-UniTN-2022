{
  "nbformat": 4,
  "nbformat_minor": 0,
  "metadata": {
    "colab": {
      "provenance": [],
      "collapsed_sections": [
        "utlqY-XbKOC5",
        "AMrQaWnQKUts",
        "iEe9---DKarv"
      ],
      "toc_visible": true,
      "authorship_tag": "ABX9TyOiaNDk9BFCPdvUwimlkCsS",
      "include_colab_link": true
    },
    "kernelspec": {
      "name": "python3",
      "display_name": "Python 3"
    },
    "language_info": {
      "name": "python"
    },
    "accelerator": "GPU"
  },
  "cells": [
    {
      "cell_type": "markdown",
      "metadata": {
        "id": "view-in-github",
        "colab_type": "text"
      },
      "source": [
        "<a href=\"https://colab.research.google.com/github/filippodaniotti/NLU-UniTN-2022/blob/master/language-modeling.ipynb\" target=\"_parent\"><img src=\"https://colab.research.google.com/assets/colab-badge.svg\" alt=\"Open In Colab\"/></a>"
      ]
    },
    {
      "cell_type": "markdown",
      "source": [
        "# Project setup\n"
      ],
      "metadata": {
        "id": "yJ6PuzqzsdYt"
      }
    },
    {
      "cell_type": "markdown",
      "source": [
        "### Imports"
      ],
      "metadata": {
        "id": "utlqY-XbKOC5"
      }
    },
    {
      "cell_type": "code",
      "source": [
        "import os\n",
        "\n",
        "from typing import List, Set\n",
        "\n",
        "import torch\n",
        "import torchtext\n",
        "\n",
        "device = torch.device('cuda' if torch.cuda.is_available() else 'cpu')"
      ],
      "metadata": {
        "id": "WfgxGYEitpgk"
      },
      "execution_count": null,
      "outputs": []
    },
    {
      "cell_type": "code",
      "source": [
        "#@title Configuration\n",
        "IS_COLAB = True # @param { type: \"boolean\" }\n",
        "DS_PATH = \"penn_treebank\" #@param { type: \"string\" }"
      ],
      "metadata": {
        "cellView": "form",
        "id": "C9dsohEsZBq_"
      },
      "execution_count": null,
      "outputs": []
    },
    {
      "cell_type": "markdown",
      "source": [
        "### Colab setup"
      ],
      "metadata": {
        "id": "AMrQaWnQKUts"
      }
    },
    {
      "cell_type": "code",
      "execution_count": null,
      "metadata": {
        "colab": {
          "base_uri": "https://localhost:8080/"
        },
        "id": "p6S_0s0vsCz4",
        "outputId": "06573819-eaf9-4168-de4b-6b016afef5a8"
      },
      "outputs": [
        {
          "output_type": "stream",
          "name": "stdout",
          "text": [
            "Mounted at /content/drive\n"
          ]
        }
      ],
      "source": [
        "if IS_COLAB:\n",
        "  from google.colab import drive\n",
        "  drive.mount('/content/drive', force_remount=True)"
      ]
    },
    {
      "cell_type": "markdown",
      "source": [
        "### Dataset preparation"
      ],
      "metadata": {
        "id": "iEe9---DKarv"
      }
    },
    {
      "cell_type": "code",
      "source": [
        "# Get the dataset\n",
        "!wget -o log --show-progress --progress=bar https://data.deepai.org/ptbdataset.zip"
      ],
      "metadata": {
        "colab": {
          "base_uri": "https://localhost:8080/"
        },
        "id": "zubXUJS8ta0J",
        "outputId": "e5542938-c36b-42de-dd40-2a4f75e11876"
      },
      "execution_count": null,
      "outputs": [
        {
          "output_type": "stream",
          "name": "stdout",
          "text": [
            "ptbdataset.zip      100%[===================>]   4.36M  6.68MB/s    in 0.7s    \n"
          ]
        }
      ]
    },
    {
      "cell_type": "code",
      "source": [
        "!rm -rf $DS_PATH\n",
        "!mkdir -p $DS_PATH\n",
        "!unzip -d $DS_PATH ptbdataset.zip\n"
      ],
      "metadata": {
        "colab": {
          "base_uri": "https://localhost:8080/"
        },
        "id": "3Cgx0byQuAgM",
        "outputId": "9b019769-e005-4427-deeb-7a323d2c703b"
      },
      "execution_count": null,
      "outputs": [
        {
          "output_type": "stream",
          "name": "stdout",
          "text": [
            "Archive:  ptbdataset.zip\n",
            "  inflating: penn_treebank/README    \n",
            "  inflating: penn_treebank/ptb.char.test.txt  \n",
            "  inflating: penn_treebank/ptb.char.train.txt  \n",
            "  inflating: penn_treebank/ptb.char.valid.txt  \n",
            "  inflating: penn_treebank/ptb.test.txt  \n",
            "  inflating: penn_treebank/ptb.train.txt  \n",
            "  inflating: penn_treebank/ptb.valid.txt  \n"
          ]
        }
      ]
    },
    {
      "cell_type": "code",
      "source": [
        "ptb_train_path = \"ptb.train.txt\"\n",
        "ptb_test_path = \"ptb.test.txt\"\n",
        "ptb_valid_path = \"ptb.valid.txt\"\n",
        "\n",
        "# char version\n",
        "ptb_char_train_path = \"ptb.char.train.txt\"\n",
        "ptb_char_test_path = \"ptb.char.test.txt\"\n",
        "ptb_char_valid_path = \"ptb.char.valid.txt\""
      ],
      "metadata": {
        "id": "yBIZv0xCpFPa"
      },
      "execution_count": null,
      "outputs": []
    },
    {
      "cell_type": "markdown",
      "source": [
        "# Utilities"
      ],
      "metadata": {
        "id": "t_g0iNtAnN6C"
      }
    },
    {
      "cell_type": "code",
      "source": [
        "def get_sents_from_file(file_name: str) -> List[str]:\n",
        "  sents: List[str] = []\n",
        "  with open(f'{DS_PATH}/{file_name}') as file:\n",
        "    for sent in file:\n",
        "      sents.append(sent)\n",
        "  return sents"
      ],
      "metadata": {
        "id": "bppuAZEohwyI"
      },
      "execution_count": null,
      "outputs": []
    },
    {
      "cell_type": "code",
      "source": [
        "def get_words_from_sents(sents: List[str]) -> List[str]:\n",
        "  words: List[str] = []\n",
        "  for sent in sents:\n",
        "    words.extend(sent.split())\n",
        "  return words "
      ],
      "metadata": {
        "id": "ExqRvAevqF9h"
      },
      "execution_count": null,
      "outputs": []
    },
    {
      "cell_type": "code",
      "source": [
        "def get_vocab(words: List[str]) -> Set[str]:\n",
        "  '''\n",
        "  Penn Treebank is already lowercased\n",
        "  '''\n",
        "  return {w for w in words}"
      ],
      "metadata": {
        "id": "vH4BKW-sr8-n"
      },
      "execution_count": null,
      "outputs": []
    },
    {
      "cell_type": "code",
      "source": [
        "sents_train = get_sents_from_file(ptb_train_path)\n",
        "words_train = get_words_from_sents(sents_train)\n",
        "vocab_train = get_vocab(words_train)"
      ],
      "metadata": {
        "id": "oqXErEOmo-ba"
      },
      "execution_count": null,
      "outputs": []
    },
    {
      "cell_type": "code",
      "source": [
        "print(f'Train dataset length: {len(words_train)}')\n",
        "print(f'Train dataset vocab length: {len(vocab_train)}')"
      ],
      "metadata": {
        "colab": {
          "base_uri": "https://localhost:8080/"
        },
        "id": "86BeKSGsstrC",
        "outputId": "89d1a2e6-05e2-4ab4-ea23-56881d3915a6"
      },
      "execution_count": null,
      "outputs": [
        {
          "output_type": "stream",
          "name": "stdout",
          "text": [
            "Train dataset length: 887521\n",
            "Train dataset vocab length: 9999\n"
          ]
        }
      ]
    }
  ]
}