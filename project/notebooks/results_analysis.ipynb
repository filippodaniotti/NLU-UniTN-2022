{
 "cells": [
  {
   "cell_type": "markdown",
   "metadata": {},
   "source": [
    "#### Setup"
   ]
  },
  {
   "cell_type": "code",
   "execution_count": 1,
   "metadata": {},
   "outputs": [
    {
     "name": "stdout",
     "output_type": "stream",
     "text": [
      "/media/pips/Data/Projects/NLU-UniTN-2022/project/language-modeling\n"
     ]
    }
   ],
   "source": [
    "import os\n",
    "path = os.path.abspath(os.path.join(\"..\", \"language-modeling\"))\n",
    "%cd $path"
   ]
  },
  {
   "cell_type": "code",
   "execution_count": 2,
   "metadata": {},
   "outputs": [
    {
     "name": "stderr",
     "output_type": "stream",
     "text": [
      "/media/pips/Data/Projects/NLU-UniTN-2022/project/venv/lib/python3.10/site-packages/tqdm/auto.py:21: TqdmWarning: IProgress not found. Please update jupyter and ipywidgets. See https://ipywidgets.readthedocs.io/en/stable/user_install.html\n",
      "  from .autonotebook import tqdm as notebook_tqdm\n"
     ]
    }
   ],
   "source": [
    "import yaml\n",
    "import math\n",
    "import pickle\n",
    "import numpy as np\n",
    "import pandas as pd\n",
    "from collections import Counter\n",
    "from matplotlib import pyplot as plt\n",
    "\n",
    "from sklearn.metrics import classification_report\n",
    "\n",
    "import torch\n",
    "import torch.nn.functional as F\n",
    "\n",
    "from IPython.display import display\n",
    "\n",
    "from cli import inference\n"
   ]
  },
  {
   "cell_type": "code",
   "execution_count": 3,
   "metadata": {},
   "outputs": [],
   "source": [
    "with open(\"configs/inference.yaml\", \"r\") as f:\n",
    "    inf_config = yaml.safe_load(f)"
   ]
  },
  {
   "cell_type": "code",
   "execution_count": 4,
   "metadata": {},
   "outputs": [],
   "source": [
    "def load_pickle(filename: str):\n",
    "    with open(filename, \"rb\") as f:\n",
    "        return pickle.load(f)"
   ]
  },
  {
   "cell_type": "code",
   "execution_count": 5,
   "metadata": {},
   "outputs": [],
   "source": [
    "def plot_ppl_per_len(df):\n",
    "    df = df[['lengths', 'loss']]\n",
    "    df['lengths'] = df.apply(lambda x: list(x[\"lengths\"])[0], axis=1)\n",
    "    df = df.groupby(\"lengths\").mean()\n",
    "    df[\"ppl\"] = df.apply(lambda x: math.exp(x[\"loss\"]), axis=1)\n",
    "    df.plot(\n",
    "        y=\"ppl\", \n",
    "        title=\"Perplexity by sequence length\", \n",
    "        kind=\"bar\",\n",
    "        xlabel=\"Sentence length\",\n",
    "        ylabel=\"Average perplexity\",\n",
    "        rot=0,\n",
    "        xticks=range(0, 70, 10),\n",
    "        legend=False,)\n",
    "    plt.show()"
   ]
  },
  {
   "cell_type": "code",
   "execution_count": 6,
   "metadata": {},
   "outputs": [],
   "source": [
    "def fetch_predictions(outputs):\n",
    "    outputs = torch.tensor(outputs) if len(outputs.shape) > 1 \\\n",
    "                                    else torch.tensor(outputs).unsqueeze(0)\n",
    "    softmax = F.softmax(outputs, dim=1)\n",
    "    predictions = torch.argmax(softmax, dim=1)\n",
    "    return predictions.numpy()\n",
    "\n",
    "def get_counts(df, col, lang):\n",
    "    if col == \"outputs\":\n",
    "        df[col] = df.apply(lambda pred: fetch_predictions(pred[col]), axis=1)\n",
    "        \n",
    "    counts = Counter()\n",
    "    for row in df[col]:\n",
    "        if col == \"targets\" and row.size < 2:\n",
    "            row = [int(row)]\n",
    "        counts.update(row)\n",
    "    counts = dict(sorted(counts.items(), key=lambda x: x[1], reverse=True))\n",
    "    counts = {lang[int(k)]: v  for (k, v) in counts.items()}\n",
    "    return counts"
   ]
  },
  {
   "cell_type": "code",
   "execution_count": 7,
   "metadata": {},
   "outputs": [],
   "source": [
    "def plot_targets_vs_preds(targets, preds):\n",
    "    targets_df = pd.DataFrame(targets.items(), columns=[\"word\", \"target_count\"])\n",
    "    total = targets_df[\"target_count\"].sum()\n",
    "    targets_df[\"target_freq\"] = targets_df[\"target_count\"] / total\n",
    "    targets_df[\"pred_count\"] = pd.Series(preds.values())\n",
    "    targets_df[\"pred_count\"] = targets_df[\"pred_count\"].fillna(0).astype(int)\n",
    "    targets_df[\"diff\"] = targets_df[\"pred_count\"] - targets_df[\"target_count\"]\n",
    "    targets_df[\"pred_freq\"] = targets_df[\"pred_count\"] / total\n",
    "    return targets_df"
   ]
  },
  {
   "cell_type": "code",
   "execution_count": 8,
   "metadata": {},
   "outputs": [],
   "source": [
    "def report(df, targets_counts, outputs_counts, lang, mode=\"most\"):\n",
    "    if mode == \"most_present\":\n",
    "        ids = set([lang[w] for w in list(targets_counts.keys())[:20]])\n",
    "    elif mode == \"most_guessed\":\n",
    "        ids = set([lang[w] for w in list(outputs_counts.keys())[:20]])\n",
    "    elif mode == \"least_guessed\":\n",
    "        ids = set([lang[w] for w in list(outputs_counts.keys())[-20:]])\n",
    "    targets = []\n",
    "    preds = []\n",
    "    for _, row in df.iterrows():\n",
    "        rt = row[\"targets\"].squeeze().tolist()\n",
    "        rp = row[\"outputs\"].squeeze().tolist()\n",
    "        try:\n",
    "            for t, p in zip(rt, rp):\n",
    "                if (t in ids or p in ids):\n",
    "                    targets.append(t)\n",
    "                    preds.append(p)\n",
    "        except TypeError:\n",
    "            targets.append(rt)\n",
    "            preds.append(rp[0]) \n",
    "    report = classification_report(targets, preds, labels=list(ids), target_names=[lang.ids2words[i] for i in ids], output_dict=True)\n",
    "    display(pd.DataFrame(report).transpose())"
   ]
  },
  {
   "cell_type": "code",
   "execution_count": 13,
   "metadata": {},
   "outputs": [],
   "source": [
    "def evaluate(experiment_name: str):\n",
    "    results = load_pickle(f\"results/outputs/{experiment_name}.pkl\")\n",
    "    lang = load_pickle(\"lang.pkl\")\n",
    "    df = pd.DataFrame(results)\n",
    "    # display(df)\n",
    "    # plot_ppl_per_len(df)\n",
    "    targets = get_counts(df, \"targets\", lang)\n",
    "    outputs = get_counts(df, \"outputs\", lang)\n",
    "    # diff = plot_targets_vs_preds(targets, outputs)\n",
    "    # pd.options.display.float_format = '{:.2%}'.format\n",
    "    # display(diff)\n",
    "    pd.options.display.float_format = '{:.2}'.format\n",
    "    report(df, targets, outputs, lang, mode=\"most_present\")\n",
    "    report(df, targets, outputs, lang, mode=\"most_guessed\")\n",
    "    report(df, targets, outputs, lang, mode=\"least_guessed\")\n",
    "    del df"
   ]
  },
  {
   "cell_type": "markdown",
   "metadata": {},
   "source": [
    "#### merity_ad_nohh_1024"
   ]
  },
  {
   "cell_type": "code",
   "execution_count": 10,
   "metadata": {},
   "outputs": [],
   "source": [
    "experiment_name = \"merity_ad_nohh_1024\""
   ]
  },
  {
   "cell_type": "code",
   "execution_count": 13,
   "metadata": {},
   "outputs": [
    {
     "name": "stdout",
     "output_type": "stream",
     "text": [
      "T: 1.00\t=>\tthe surprising pace came in the july N causing paper in the u.s. effect a consumer <unk> was pegged at $ N million\n",
      "T: 0.80\t=>\tthe treasury will raise about $ N billion in short-term bills and annuities\n",
      "T: 0.75\t=>\tthe accord also includes a $ N million air force contract for power to consolidate the second-largest airline\n",
      "T: 0.70\t=>\tthe lack of <unk> money is too profitable\n",
      "T: 0.50\t=>\tthe real estate unit is n't a real estate\n",
      "\n"
     ]
    }
   ],
   "source": [
    "with open(f\"configs/{experiment_name}.yaml\") as config_file:\n",
    "    config = yaml.safe_load(config_file)\n",
    "print(inference(config, inf_config, \"the\"))"
   ]
  },
  {
   "cell_type": "code",
   "execution_count": 14,
   "metadata": {},
   "outputs": [
    {
     "name": "stdout",
     "output_type": "stream",
     "text": [
      "T: 1.00\t=>\tthe price is at induce price\n",
      "T: 0.80\t=>\tthe price was unchanged to $ N million\n",
      "T: 0.75\t=>\tthe price of $ N a share\n",
      "T: 0.70\t=>\tthe price for the s&p N was equivalent to N N\n",
      "T: 0.50\t=>\tthe price was $ N\n",
      "\n"
     ]
    }
   ],
   "source": [
    "print(inference(config, inf_config, \"the price\"))"
   ]
  },
  {
   "cell_type": "code",
   "execution_count": 15,
   "metadata": {},
   "outputs": [
    {
     "name": "stdout",
     "output_type": "stream",
     "text": [
      "T: 1.00\t=>\tit may not always lock on european market\n",
      "T: 0.80\t=>\tit may be far greater and more than N N of those in the stock exchange and many markets\n",
      "T: 0.75\t=>\tit may be n't a separate <unk>\n",
      "T: 0.70\t=>\tit may be <unk> by a <unk> plan\n",
      "T: 0.50\t=>\tit may not be a <unk>\n",
      "\n"
     ]
    }
   ],
   "source": [
    "print(inference(config, inf_config, \"it may\"))"
   ]
  },
  {
   "cell_type": "code",
   "execution_count": 14,
   "metadata": {},
   "outputs": [
    {
     "ename": "TypeError",
     "evalue": "'int' object is not subscriptable",
     "output_type": "error",
     "traceback": [
      "\u001b[0;31m---------------------------------------------------------------------------\u001b[0m",
      "\u001b[0;31mTypeError\u001b[0m                                 Traceback (most recent call last)",
      "\u001b[1;32m/media/pips/Data/Projects/NLU-UniTN-2022/project/notebooks/results_analysis.ipynb Cell 16\u001b[0m line \u001b[0;36m1\n\u001b[1;32m     <a href='vscode-notebook-cell:/media/pips/Data/Projects/NLU-UniTN-2022/project/notebooks/results_analysis.ipynb#X21sZmlsZQ%3D%3D?line=12'>13</a>\u001b[0m \u001b[39mtry\u001b[39;00m:\n\u001b[0;32m---> <a href='vscode-notebook-cell:/media/pips/Data/Projects/NLU-UniTN-2022/project/notebooks/results_analysis.ipynb#X21sZmlsZQ%3D%3D?line=13'>14</a>\u001b[0m     \u001b[39mfor\u001b[39;00m t, p \u001b[39min\u001b[39;00m \u001b[39mzip\u001b[39;49m(rt, rp):\n\u001b[1;32m     <a href='vscode-notebook-cell:/media/pips/Data/Projects/NLU-UniTN-2022/project/notebooks/results_analysis.ipynb#X21sZmlsZQ%3D%3D?line=14'>15</a>\u001b[0m         \u001b[39mif\u001b[39;00m (t \u001b[39min\u001b[39;00m ids \u001b[39mor\u001b[39;00m p \u001b[39min\u001b[39;00m ids):\n",
      "\u001b[0;31mTypeError\u001b[0m: 'int' object is not iterable",
      "\nDuring handling of the above exception, another exception occurred:\n",
      "\u001b[0;31mTypeError\u001b[0m                                 Traceback (most recent call last)",
      "\u001b[1;32m/media/pips/Data/Projects/NLU-UniTN-2022/project/notebooks/results_analysis.ipynb Cell 16\u001b[0m line \u001b[0;36m1\n\u001b[0;32m----> <a href='vscode-notebook-cell:/media/pips/Data/Projects/NLU-UniTN-2022/project/notebooks/results_analysis.ipynb#X21sZmlsZQ%3D%3D?line=0'>1</a>\u001b[0m evaluate(experiment_name)\n",
      "\u001b[1;32m/media/pips/Data/Projects/NLU-UniTN-2022/project/notebooks/results_analysis.ipynb Cell 16\u001b[0m line \u001b[0;36m1\n\u001b[1;32m      <a href='vscode-notebook-cell:/media/pips/Data/Projects/NLU-UniTN-2022/project/notebooks/results_analysis.ipynb#X21sZmlsZQ%3D%3D?line=8'>9</a>\u001b[0m \u001b[39m# diff = plot_targets_vs_preds(targets, outputs)\u001b[39;00m\n\u001b[1;32m     <a href='vscode-notebook-cell:/media/pips/Data/Projects/NLU-UniTN-2022/project/notebooks/results_analysis.ipynb#X21sZmlsZQ%3D%3D?line=9'>10</a>\u001b[0m \u001b[39m# pd.options.display.float_format = '{:.2%}'.format\u001b[39;00m\n\u001b[1;32m     <a href='vscode-notebook-cell:/media/pips/Data/Projects/NLU-UniTN-2022/project/notebooks/results_analysis.ipynb#X21sZmlsZQ%3D%3D?line=10'>11</a>\u001b[0m \u001b[39m# display(diff)\u001b[39;00m\n\u001b[1;32m     <a href='vscode-notebook-cell:/media/pips/Data/Projects/NLU-UniTN-2022/project/notebooks/results_analysis.ipynb#X21sZmlsZQ%3D%3D?line=11'>12</a>\u001b[0m pd\u001b[39m.\u001b[39moptions\u001b[39m.\u001b[39mdisplay\u001b[39m.\u001b[39mfloat_format \u001b[39m=\u001b[39m \u001b[39m'\u001b[39m\u001b[39m{:.2}\u001b[39;00m\u001b[39m'\u001b[39m\u001b[39m.\u001b[39mformat\n\u001b[0;32m---> <a href='vscode-notebook-cell:/media/pips/Data/Projects/NLU-UniTN-2022/project/notebooks/results_analysis.ipynb#X21sZmlsZQ%3D%3D?line=12'>13</a>\u001b[0m report(df, targets, outputs, lang, mode\u001b[39m=\u001b[39;49m\u001b[39m\"\u001b[39;49m\u001b[39mmost_present\u001b[39;49m\u001b[39m\"\u001b[39;49m)\n\u001b[1;32m     <a href='vscode-notebook-cell:/media/pips/Data/Projects/NLU-UniTN-2022/project/notebooks/results_analysis.ipynb#X21sZmlsZQ%3D%3D?line=13'>14</a>\u001b[0m report(df, targets, outputs, lang, mode\u001b[39m=\u001b[39m\u001b[39m\"\u001b[39m\u001b[39mmost_guessed\u001b[39m\u001b[39m\"\u001b[39m)\n\u001b[1;32m     <a href='vscode-notebook-cell:/media/pips/Data/Projects/NLU-UniTN-2022/project/notebooks/results_analysis.ipynb#X21sZmlsZQ%3D%3D?line=14'>15</a>\u001b[0m report(df, targets, outputs, lang, mode\u001b[39m=\u001b[39m\u001b[39m\"\u001b[39m\u001b[39mleast_guessed\u001b[39m\u001b[39m\"\u001b[39m)\n",
      "\u001b[1;32m/media/pips/Data/Projects/NLU-UniTN-2022/project/notebooks/results_analysis.ipynb Cell 16\u001b[0m line \u001b[0;36m2\n\u001b[1;32m     <a href='vscode-notebook-cell:/media/pips/Data/Projects/NLU-UniTN-2022/project/notebooks/results_analysis.ipynb#X21sZmlsZQ%3D%3D?line=17'>18</a>\u001b[0m     \u001b[39mexcept\u001b[39;00m \u001b[39mTypeError\u001b[39;00m:\n\u001b[1;32m     <a href='vscode-notebook-cell:/media/pips/Data/Projects/NLU-UniTN-2022/project/notebooks/results_analysis.ipynb#X21sZmlsZQ%3D%3D?line=18'>19</a>\u001b[0m         targets\u001b[39m.\u001b[39mappend(rt)\n\u001b[0;32m---> <a href='vscode-notebook-cell:/media/pips/Data/Projects/NLU-UniTN-2022/project/notebooks/results_analysis.ipynb#X21sZmlsZQ%3D%3D?line=19'>20</a>\u001b[0m         preds\u001b[39m.\u001b[39mappend(rp[\u001b[39m0\u001b[39;49m]) \n\u001b[1;32m     <a href='vscode-notebook-cell:/media/pips/Data/Projects/NLU-UniTN-2022/project/notebooks/results_analysis.ipynb#X21sZmlsZQ%3D%3D?line=20'>21</a>\u001b[0m report \u001b[39m=\u001b[39m classification_report(targets, preds, labels\u001b[39m=\u001b[39m\u001b[39mlist\u001b[39m(ids), target_names\u001b[39m=\u001b[39m[lang\u001b[39m.\u001b[39mids2words[i] \u001b[39mfor\u001b[39;00m i \u001b[39min\u001b[39;00m ids], output_dict\u001b[39m=\u001b[39m\u001b[39mTrue\u001b[39;00m)\n\u001b[1;32m     <a href='vscode-notebook-cell:/media/pips/Data/Projects/NLU-UniTN-2022/project/notebooks/results_analysis.ipynb#X21sZmlsZQ%3D%3D?line=21'>22</a>\u001b[0m display(pd\u001b[39m.\u001b[39mDataFrame(report)\u001b[39m.\u001b[39mtranspose())\n",
      "\u001b[0;31mTypeError\u001b[0m: 'int' object is not subscriptable"
     ]
    }
   ],
   "source": [
    "evaluate(experiment_name)"
   ]
  }
 ],
 "metadata": {
  "kernelspec": {
   "display_name": "venv",
   "language": "python",
   "name": "python3"
  },
  "language_info": {
   "codemirror_mode": {
    "name": "ipython",
    "version": 3
   },
   "file_extension": ".py",
   "mimetype": "text/x-python",
   "name": "python",
   "nbconvert_exporter": "python",
   "pygments_lexer": "ipython3",
   "version": "3.10.12"
  },
  "orig_nbformat": 4
 },
 "nbformat": 4,
 "nbformat_minor": 2
}
