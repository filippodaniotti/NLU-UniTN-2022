{
  "cells": [
    {
      "attachments": {},
      "cell_type": "markdown",
      "metadata": {
        "id": "yJ6PuzqzsdYt"
      },
      "source": [
        "# Dataset exploration and analysis\n"
      ]
    },
    {
      "cell_type": "markdown",
      "metadata": {
        "id": "utlqY-XbKOC5"
      },
      "source": [
        "### Imports"
      ]
    },
    {
      "cell_type": "code",
      "execution_count": 22,
      "metadata": {
        "id": "WfgxGYEitpgk"
      },
      "outputs": [],
      "source": [
        "import os\n",
        "\n",
        "import numpy as np\n",
        "import pandas as pd\n",
        "import itertools as it\n",
        "import matplotlib.pyplot as plt\n",
        "\n",
        "from collections import Counter\n",
        "\n",
        "from typing import List, Set, Dict, Tuple, Optional, Set, Iterable\n",
        "\n",
        "from IPython.display import display\n"
      ]
    },
    {
      "cell_type": "code",
      "execution_count": 14,
      "metadata": {
        "cellView": "form",
        "id": "C9dsohEsZBq_"
      },
      "outputs": [],
      "source": [
        "#@title Configuration\n",
        "IS_COLAB = False # @param { type: \"boolean\" }\n",
        "DS_PATH = \"../language-modeling/penn_treebank\" #@param { type: \"string\" }"
      ]
    },
    {
      "cell_type": "markdown",
      "metadata": {
        "id": "AMrQaWnQKUts"
      },
      "source": [
        "### Colab setup"
      ]
    },
    {
      "cell_type": "code",
      "execution_count": 3,
      "metadata": {
        "colab": {
          "base_uri": "https://localhost:8080/"
        },
        "id": "p6S_0s0vsCz4",
        "outputId": "be11dc77-6943-4cad-f180-47c193356f69"
      },
      "outputs": [],
      "source": [
        "if IS_COLAB:\n",
        "  from google.colab import drive\n",
        "  drive.mount('/content/drive', force_remount=True)"
      ]
    },
    {
      "cell_type": "markdown",
      "metadata": {
        "id": "iEe9---DKarv"
      },
      "source": [
        "### Dataset preparation"
      ]
    },
    {
      "cell_type": "code",
      "execution_count": 3,
      "metadata": {
        "colab": {
          "base_uri": "https://localhost:8080/"
        },
        "id": "zubXUJS8ta0J",
        "outputId": "8f142867-b3d4-4433-a02d-e124a0352375"
      },
      "outputs": [
        {
          "name": "stderr",
          "output_type": "stream",
          "text": [
            "'wget' is not recognized as an internal or external command,\n",
            "operable program or batch file.\n"
          ]
        }
      ],
      "source": [
        "# Get the dataset\n",
        "!wget -o log --show-progress --progress=bar https://data.deepai.org/ptbdataset.zip"
      ]
    },
    {
      "cell_type": "code",
      "execution_count": null,
      "metadata": {
        "colab": {
          "base_uri": "https://localhost:8080/"
        },
        "id": "3Cgx0byQuAgM",
        "outputId": "167ee6b4-02d4-4b9e-cece-6071caf3412a"
      },
      "outputs": [
        {
          "name": "stdout",
          "output_type": "stream",
          "text": [
            "Archive:  ptbdataset.zip\n",
            "  inflating: penn_treebank/README    \n",
            "  inflating: penn_treebank/ptb.char.test.txt  \n",
            "  inflating: penn_treebank/ptb.char.train.txt  \n",
            "  inflating: penn_treebank/ptb.char.valid.txt  \n",
            "  inflating: penn_treebank/ptb.test.txt  \n",
            "  inflating: penn_treebank/ptb.train.txt  \n",
            "  inflating: penn_treebank/ptb.valid.txt  \n"
          ]
        }
      ],
      "source": [
        "!rm -rf $DS_PATH\n",
        "!mkdir -p $DS_PATH\n",
        "!unzip -d $DS_PATH ptbdataset.zip\n"
      ]
    },
    {
      "cell_type": "code",
      "execution_count": 4,
      "metadata": {
        "id": "yBIZv0xCpFPa"
      },
      "outputs": [],
      "source": [
        "ptb_train_path = \"ptb.train.txt\"\n",
        "ptb_test_path = \"ptb.test.txt\"\n",
        "ptb_valid_path = \"ptb.valid.txt\""
      ]
    },
    {
      "cell_type": "markdown",
      "metadata": {
        "id": "t_g0iNtAnN6C"
      },
      "source": [
        "# Dataset exploration"
      ]
    },
    {
      "cell_type": "markdown",
      "metadata": {
        "id": "wE3O_prf7Wio"
      },
      "source": [
        "## Utilities"
      ]
    },
    {
      "cell_type": "code",
      "execution_count": 5,
      "metadata": {
        "id": "bppuAZEohwyI"
      },
      "outputs": [],
      "source": [
        "def get_sents_from_file(file_name: str) -> List[str]:\n",
        "  sents: List[str] = []\n",
        "  with open(f'{DS_PATH}/{file_name}') as file:\n",
        "    for sent in file:\n",
        "      sents.append(sent)\n",
        "  return sents"
      ]
    },
    {
      "cell_type": "code",
      "execution_count": 6,
      "metadata": {
        "id": "ExqRvAevqF9h"
      },
      "outputs": [],
      "source": [
        "def get_words_from_sents(sents: List[str]) -> List[str]:\n",
        "  words: List[str] = []\n",
        "  for sent in sents:\n",
        "    words.extend(sent.split())\n",
        "  return words "
      ]
    },
    {
      "cell_type": "code",
      "execution_count": 7,
      "metadata": {
        "id": "vH4BKW-sr8-n"
      },
      "outputs": [],
      "source": [
        "def get_vocab(words: List[str]) -> Set[str]:\n",
        "  '''\n",
        "  Penn Treebank is already lowercased\n",
        "  '''\n",
        "  return set(words)"
      ]
    },
    {
      "cell_type": "code",
      "execution_count": 8,
      "metadata": {
        "id": "F2lk5Amp8cho"
      },
      "outputs": [],
      "source": [
        "def compute_set_difference(a: Set, b: Set) -> Set:\n",
        "    return a - b"
      ]
    },
    {
      "cell_type": "code",
      "execution_count": 9,
      "metadata": {
        "id": "U-_7ZO0X82yb"
      },
      "outputs": [],
      "source": [
        "def compute_set_intersection(a: Set, b: Set) -> Set:\n",
        "    return a.intersection(b)"
      ]
    },
    {
      "cell_type": "code",
      "execution_count": 10,
      "metadata": {
        "id": "FxPhRORj5rfO"
      },
      "outputs": [],
      "source": [
        "def plot_stats(\n",
        "        sents: List[List[str]], \n",
        "        words: List[List[str]], \n",
        "        vocabs: List[List[str]]) -> None:\n",
        "\n",
        "    splits = ['train', 'test', 'valid']\n",
        "    cols = ['sentences', 'words', 'vocab size']\n",
        "\n",
        "    data = {col: [len(l) for l in split] for col, split in zip(cols, [sents, words, vocabs])}\n",
        "\n",
        "    table = pd.DataFrame(data, index = splits)\n",
        "    display(table)"
      ]
    },
    {
      "cell_type": "code",
      "execution_count": 11,
      "metadata": {
        "id": "YOAhD6yAceQ9"
      },
      "outputs": [],
      "source": [
        "def plot_split_percentage(\n",
        "        sents: List[List[str]], \n",
        "        words: List[List[str]]) -> None:\n",
        "\n",
        "    splits = ['train', 'test', 'valid']\n",
        "    cols = ['sentences', 'words', 'vocab size']\n",
        "\n",
        "\n",
        "    sents_tot = sum([len(l) for l in sents])\n",
        "    words_tot = sum([len(l) for l in words])\n",
        "    sents_perc = [len(l) / sents_tot for l in sents]\n",
        "    words_perc = [len(l) / words_tot for l in words]\n",
        "\n",
        "    fig, axs = plt.subplots(1, 2)\n",
        "    for idx, (col, data) in enumerate(zip(cols, [sents_perc, words_perc])):\n",
        "        axs[idx].set_title(f'{col} split percentage')\n",
        "        axs[idx].pie(\n",
        "            data, \n",
        "            labels = splits, \n",
        "            autopct = '%1.1f%%',\n",
        "            shadow = True, \n",
        "            startangle = 90,\n",
        "            )\n",
        "\n",
        "    plt.show()"
      ]
    },
    {
      "cell_type": "code",
      "execution_count": 12,
      "metadata": {
        "id": "WbVFprzb-oqT"
      },
      "outputs": [],
      "source": [
        "def print_oov_words(vocabs: Iterable, train_vocab: Set[str]) -> None:\n",
        "    oov_words_list = []\n",
        "    for vocab in vocabs:\n",
        "        oov_words_list.append(compute_set_difference(vocab, train_vocab))\n",
        "    names = ['test oov words', 'valid oov words']\n",
        "    data = {name: [len(oovs)] for (name, oovs) in zip(names, oov_words_list)}\n",
        "    table = pd.DataFrame(data, index=['size'])\n",
        "    display(table)"
      ]
    },
    {
      "cell_type": "markdown",
      "metadata": {
        "id": "H2HgbM2Q9oeh"
      },
      "source": [
        "## Dataset statistics"
      ]
    },
    {
      "cell_type": "code",
      "execution_count": 15,
      "metadata": {
        "id": "oqXErEOmo-ba"
      },
      "outputs": [],
      "source": [
        "sents_train = get_sents_from_file(ptb_train_path)\n",
        "sents_test = get_sents_from_file(ptb_test_path)\n",
        "sents_valid = get_sents_from_file(ptb_valid_path)\n",
        "\n",
        "words_train = get_words_from_sents(sents_train)\n",
        "words_test = get_words_from_sents(sents_test)\n",
        "words_valid = get_words_from_sents(sents_valid)\n",
        "\n",
        "vocab_train = get_vocab(words_train)\n",
        "vocab_test = get_vocab(words_test)\n",
        "vocab_valid = get_vocab(words_valid)"
      ]
    },
    {
      "cell_type": "code",
      "execution_count": 16,
      "metadata": {
        "colab": {
          "base_uri": "https://localhost:8080/",
          "height": 143
        },
        "id": "ycydmwUV6CWw",
        "outputId": "ac4fe712-f74e-4f68-e89a-64cbef12dec9"
      },
      "outputs": [
        {
          "data": {
            "text/html": [
              "<div>\n",
              "<style scoped>\n",
              "    .dataframe tbody tr th:only-of-type {\n",
              "        vertical-align: middle;\n",
              "    }\n",
              "\n",
              "    .dataframe tbody tr th {\n",
              "        vertical-align: top;\n",
              "    }\n",
              "\n",
              "    .dataframe thead th {\n",
              "        text-align: right;\n",
              "    }\n",
              "</style>\n",
              "<table border=\"1\" class=\"dataframe\">\n",
              "  <thead>\n",
              "    <tr style=\"text-align: right;\">\n",
              "      <th></th>\n",
              "      <th>sentences</th>\n",
              "      <th>words</th>\n",
              "      <th>vocab size</th>\n",
              "    </tr>\n",
              "  </thead>\n",
              "  <tbody>\n",
              "    <tr>\n",
              "      <th>train</th>\n",
              "      <td>42068</td>\n",
              "      <td>887521</td>\n",
              "      <td>9999</td>\n",
              "    </tr>\n",
              "    <tr>\n",
              "      <th>test</th>\n",
              "      <td>3761</td>\n",
              "      <td>78669</td>\n",
              "      <td>6048</td>\n",
              "    </tr>\n",
              "    <tr>\n",
              "      <th>valid</th>\n",
              "      <td>3370</td>\n",
              "      <td>70390</td>\n",
              "      <td>6021</td>\n",
              "    </tr>\n",
              "  </tbody>\n",
              "</table>\n",
              "</div>"
            ],
            "text/plain": [
              "       sentences   words  vocab size\n",
              "train      42068  887521        9999\n",
              "test        3761   78669        6048\n",
              "valid       3370   70390        6021"
            ]
          },
          "metadata": {},
          "output_type": "display_data"
        }
      ],
      "source": [
        "plot_stats(\n",
        "    [sents_train, sents_test, sents_valid],\n",
        "    [words_train, words_test, words_valid],\n",
        "    [vocab_train, vocab_test, vocab_valid],\n",
        ")"
      ]
    },
    {
      "cell_type": "code",
      "execution_count": 17,
      "metadata": {
        "colab": {
          "base_uri": "https://localhost:8080/",
          "height": 199
        },
        "id": "d-64QFFh6p75",
        "outputId": "c3a909f2-2b70-4c79-e09a-26b4d2185daf"
      },
      "outputs": [
        {
          "data": {
            "image/png": "[encoded data removed]",
            "text/plain": [
              "<Figure size 432x288 with 2 Axes>"
            ]
          },
          "metadata": {},
          "output_type": "display_data"
        }
      ],
      "source": [
        "plot_split_percentage(\n",
        "    [sents_train, sents_test, sents_valid],\n",
        "    [words_train, words_test, words_valid]\n",
        ")"
      ]
    },
    {
      "cell_type": "markdown",
      "metadata": {
        "id": "hg1a3Wme9r4l"
      },
      "source": [
        "## OOV words"
      ]
    },
    {
      "cell_type": "code",
      "execution_count": 18,
      "metadata": {
        "colab": {
          "base_uri": "https://localhost:8080/",
          "height": 81
        },
        "id": "2P3Zz7mF9tl9",
        "outputId": "3c1ab4ba-75b3-4c47-fede-c733f5550736"
      },
      "outputs": [
        {
          "data": {
            "text/html": [
              "<div>\n",
              "<style scoped>\n",
              "    .dataframe tbody tr th:only-of-type {\n",
              "        vertical-align: middle;\n",
              "    }\n",
              "\n",
              "    .dataframe tbody tr th {\n",
              "        vertical-align: top;\n",
              "    }\n",
              "\n",
              "    .dataframe thead th {\n",
              "        text-align: right;\n",
              "    }\n",
              "</style>\n",
              "<table border=\"1\" class=\"dataframe\">\n",
              "  <thead>\n",
              "    <tr style=\"text-align: right;\">\n",
              "      <th></th>\n",
              "      <th>test oov words</th>\n",
              "      <th>valid oov words</th>\n",
              "    </tr>\n",
              "  </thead>\n",
              "  <tbody>\n",
              "    <tr>\n",
              "      <th>size</th>\n",
              "      <td>0</td>\n",
              "      <td>0</td>\n",
              "    </tr>\n",
              "  </tbody>\n",
              "</table>\n",
              "</div>"
            ],
            "text/plain": [
              "      test oov words  valid oov words\n",
              "size               0                0"
            ]
          },
          "metadata": {},
          "output_type": "display_data"
        }
      ],
      "source": [
        "print_oov_words([vocab_test, vocab_valid], vocab_train)"
      ]
    },
    {
      "attachments": {},
      "cell_type": "markdown",
      "metadata": {},
      "source": [
        "## Words frequency"
      ]
    },
    {
      "cell_type": "code",
      "execution_count": 81,
      "metadata": {},
      "outputs": [],
      "source": [
        "def compute_word_frequencies(words: Set[str]) -> Dict[str, int]:\n",
        "    counts = Counter(words)\n",
        "    return counts\n",
        "\n",
        "def reverse_sort_frequency_counter(counts: Counter, cutoff: int = 0) -> Dict[str, int]:\n",
        "    truncate = len(counts) - cutoff\n",
        "    return dict(sorted(dict(counts).items(), key=lambda item: item[1], reverse=True)[:cutoff])\n",
        "\n",
        "def plot_word_frequencies(words: Set[str]) -> None:\n",
        "    counts = compute_word_frequencies(words)\n",
        "    counts = reverse_sort_frequency_counter(counts, 10)\n",
        "    \n",
        "    keys = list(counts.keys())\n",
        "    vals = list(counts.values())\n",
        "\n",
        "    plt.rcdefaults()\n",
        "    fig, ax = plt.subplots()\n",
        "    y_pos = np.arange(len(keys))\n",
        "\n",
        "    ax.barh(y_pos, vals,  align='center')\n",
        "    ax.set_yticks(y_pos, labels=keys)\n",
        "    # ax.set_ytickslabels(keys)\n",
        "    ax.invert_yaxis()  # labels read top-to-bottom\n",
        "    ax.set_xlabel('Performance')\n",
        "    ax.set_title('How fast do you want to go today?')\n",
        "\n",
        "    plt.show()"
      ]
    },
    {
      "cell_type": "code",
      "execution_count": 82,
      "metadata": {},
      "outputs": [
        {
          "ename": "TypeError",
          "evalue": "set_ticks() got an unexpected keyword argument 'labels'",
          "output_type": "error",
          "traceback": [
            "\u001b[1;31m---------------------------------------------------------------------------\u001b[0m",
            "\u001b[1;31mTypeError\u001b[0m                                 Traceback (most recent call last)",
            "\u001b[1;32m<ipython-input-82-0eac1bf73541>\u001b[0m in \u001b[0;36m<module>\u001b[1;34m\u001b[0m\n\u001b[1;32m----> 1\u001b[1;33m \u001b[0mplot_word_frequencies\u001b[0m\u001b[1;33m(\u001b[0m\u001b[0mwords_train\u001b[0m\u001b[1;33m)\u001b[0m\u001b[1;33m\u001b[0m\u001b[1;33m\u001b[0m\u001b[0m\n\u001b[0m",
            "\u001b[1;32m<ipython-input-81-2505b8851122>\u001b[0m in \u001b[0;36mplot_word_frequencies\u001b[1;34m(words)\u001b[0m\n\u001b[0;32m     19\u001b[0m \u001b[1;33m\u001b[0m\u001b[0m\n\u001b[0;32m     20\u001b[0m     \u001b[0max\u001b[0m\u001b[1;33m.\u001b[0m\u001b[0mbarh\u001b[0m\u001b[1;33m(\u001b[0m\u001b[0my_pos\u001b[0m\u001b[1;33m,\u001b[0m \u001b[0mvals\u001b[0m\u001b[1;33m,\u001b[0m  \u001b[0malign\u001b[0m\u001b[1;33m=\u001b[0m\u001b[1;34m'center'\u001b[0m\u001b[1;33m)\u001b[0m\u001b[1;33m\u001b[0m\u001b[1;33m\u001b[0m\u001b[0m\n\u001b[1;32m---> 21\u001b[1;33m     \u001b[0max\u001b[0m\u001b[1;33m.\u001b[0m\u001b[0mset_yticks\u001b[0m\u001b[1;33m(\u001b[0m\u001b[0my_pos\u001b[0m\u001b[1;33m,\u001b[0m \u001b[0mlabels\u001b[0m\u001b[1;33m=\u001b[0m\u001b[0mkeys\u001b[0m\u001b[1;33m)\u001b[0m\u001b[1;33m\u001b[0m\u001b[1;33m\u001b[0m\u001b[0m\n\u001b[0m\u001b[0;32m     22\u001b[0m     \u001b[1;31m# ax.set_ytickslabels(keys)\u001b[0m\u001b[1;33m\u001b[0m\u001b[1;33m\u001b[0m\u001b[1;33m\u001b[0m\u001b[0m\n\u001b[0;32m     23\u001b[0m     \u001b[0max\u001b[0m\u001b[1;33m.\u001b[0m\u001b[0minvert_yaxis\u001b[0m\u001b[1;33m(\u001b[0m\u001b[1;33m)\u001b[0m  \u001b[1;31m# labels read top-to-bottom\u001b[0m\u001b[1;33m\u001b[0m\u001b[1;33m\u001b[0m\u001b[0m\n",
            "\u001b[1;32mc:\\Users\\febbr\\AppData\\Local\\Programs\\Python\\Python39\\lib\\site-packages\\matplotlib\\axes\\_base.py\u001b[0m in \u001b[0;36mwrapper\u001b[1;34m(self, *args, **kwargs)\u001b[0m\n",
            "\u001b[1;32mc:\\Users\\febbr\\AppData\\Local\\Programs\\Python\\Python39\\lib\\site-packages\\matplotlib\\cbook\\deprecation.py\u001b[0m in \u001b[0;36mwrapper\u001b[1;34m(*args, **kwargs)\u001b[0m\n\u001b[0;32m    449\u001b[0m                 \u001b[1;34m\"parameter will become keyword-only %(removal)s.\"\u001b[0m\u001b[1;33m,\u001b[0m\u001b[1;33m\u001b[0m\u001b[1;33m\u001b[0m\u001b[0m\n\u001b[0;32m    450\u001b[0m                 name=name, obj_type=f\"parameter of {func.__name__}()\")\n\u001b[1;32m--> 451\u001b[1;33m         \u001b[1;32mreturn\u001b[0m \u001b[0mfunc\u001b[0m\u001b[1;33m(\u001b[0m\u001b[1;33m*\u001b[0m\u001b[0margs\u001b[0m\u001b[1;33m,\u001b[0m \u001b[1;33m**\u001b[0m\u001b[0mkwargs\u001b[0m\u001b[1;33m)\u001b[0m\u001b[1;33m\u001b[0m\u001b[1;33m\u001b[0m\u001b[0m\n\u001b[0m\u001b[0;32m    452\u001b[0m \u001b[1;33m\u001b[0m\u001b[0m\n\u001b[0;32m    453\u001b[0m     \u001b[1;32mreturn\u001b[0m \u001b[0mwrapper\u001b[0m\u001b[1;33m\u001b[0m\u001b[1;33m\u001b[0m\u001b[0m\n",
            "\u001b[1;31mTypeError\u001b[0m: set_ticks() got an unexpected keyword argument 'labels'"
          ]
        },
        {
          "data": {
            "image/png": "[encoded data removed]",
            "text/plain": [
              "<Figure size 640x480 with 1 Axes>"
            ]
          },
          "metadata": {},
          "output_type": "display_data"
        }
      ],
      "source": [
        "plot_word_frequencies(words_train)"
      ]
    }
  ],
  "metadata": {
    "accelerator": "GPU",
    "colab": {
      "collapsed_sections": [
        "utlqY-XbKOC5",
        "AMrQaWnQKUts",
        "iEe9---DKarv"
      ],
      "provenance": [],
      "toc_visible": true
    },
    "kernelspec": {
      "display_name": "Python 3",
      "language": "python",
      "name": "python3"
    },
    "language_info": {
      "codemirror_mode": {
        "name": "ipython",
        "version": 3
      },
      "file_extension": ".py",
      "mimetype": "text/x-python",
      "name": "python",
      "nbconvert_exporter": "python",
      "pygments_lexer": "ipython3",
      "version": "3.9.2"
    },
    "vscode": {
      "interpreter": {
        "hash": "cacb7c0752440ae57875e61ca8c19ad4bd67b951182a285e1b608f1dab390800"
      }
    }
  },
  "nbformat": 4,
  "nbformat_minor": 0
}
