{
  "cells": [
    {
      "cell_type": "markdown",
      "metadata": {
        "id": "yJ6PuzqzsdYt"
      },
      "source": [
        "# Project setup\n"
      ]
    },
    {
      "cell_type": "markdown",
      "metadata": {
        "id": "utlqY-XbKOC5"
      },
      "source": [
        "### Imports"
      ]
    },
    {
      "cell_type": "code",
      "execution_count": null,
      "metadata": {
        "id": "WfgxGYEitpgk"
      },
      "outputs": [],
      "source": [
        "import os\n",
        "\n",
        "import numpy as np\n",
        "import pandas as pd\n",
        "import itertools as it\n",
        "import matplotlib.pyplot as plt\n",
        "\n",
        "from typing import List, Set, Dict, Tuple, Optional, Set, Iterable\n",
        "\n",
        "\n",
        "import torch\n",
        "import torchtext\n",
        "\n",
        "from IPython.display import display\n",
        "\n",
        "device = torch.device('cuda' if torch.cuda.is_available() else 'cpu')"
      ]
    },
    {
      "cell_type": "code",
      "execution_count": null,
      "metadata": {
        "cellView": "form",
        "id": "C9dsohEsZBq_"
      },
      "outputs": [],
      "source": [
        "#@title Configuration\n",
        "IS_COLAB = True # @param { type: \"boolean\" }\n",
        "DS_PATH = \"penn_treebank\" #@param { type: \"string\" }"
      ]
    },
    {
      "cell_type": "markdown",
      "metadata": {
        "id": "AMrQaWnQKUts"
      },
      "source": [
        "### Colab setup"
      ]
    },
    {
      "cell_type": "code",
      "execution_count": null,
      "metadata": {
        "colab": {
          "base_uri": "https://localhost:8080/"
        },
        "id": "p6S_0s0vsCz4",
        "outputId": "be11dc77-6943-4cad-f180-47c193356f69"
      },
      "outputs": [
        {
          "name": "stdout",
          "output_type": "stream",
          "text": [
            "Mounted at /content/drive\n"
          ]
        }
      ],
      "source": [
        "if IS_COLAB:\n",
        "  from google.colab import drive\n",
        "  drive.mount('/content/drive', force_remount=True)"
      ]
    },
    {
      "cell_type": "markdown",
      "metadata": {
        "id": "iEe9---DKarv"
      },
      "source": [
        "### Dataset preparation"
      ]
    },
    {
      "cell_type": "code",
      "execution_count": null,
      "metadata": {
        "colab": {
          "base_uri": "https://localhost:8080/"
        },
        "id": "zubXUJS8ta0J",
        "outputId": "8f142867-b3d4-4433-a02d-e124a0352375"
      },
      "outputs": [
        {
          "name": "stdout",
          "output_type": "stream",
          "text": [
            "\rptbdataset.zip        0%[                    ]       0  --.-KB/s               \rptbdataset.zip      100%[===================>]   4.36M  --.-KB/s    in 0.05s   \n"
          ]
        }
      ],
      "source": [
        "# Get the dataset\n",
        "!wget -o log --show-progress --progress=bar https://data.deepai.org/ptbdataset.zip"
      ]
    },
    {
      "cell_type": "code",
      "execution_count": null,
      "metadata": {
        "colab": {
          "base_uri": "https://localhost:8080/"
        },
        "id": "3Cgx0byQuAgM",
        "outputId": "167ee6b4-02d4-4b9e-cece-6071caf3412a"
      },
      "outputs": [
        {
          "name": "stdout",
          "output_type": "stream",
          "text": [
            "Archive:  ptbdataset.zip\n",
            "  inflating: penn_treebank/README    \n",
            "  inflating: penn_treebank/ptb.char.test.txt  \n",
            "  inflating: penn_treebank/ptb.char.train.txt  \n",
            "  inflating: penn_treebank/ptb.char.valid.txt  \n",
            "  inflating: penn_treebank/ptb.test.txt  \n",
            "  inflating: penn_treebank/ptb.train.txt  \n",
            "  inflating: penn_treebank/ptb.valid.txt  \n"
          ]
        }
      ],
      "source": [
        "!rm -rf $DS_PATH\n",
        "!mkdir -p $DS_PATH\n",
        "!unzip -d $DS_PATH ptbdataset.zip\n"
      ]
    },
    {
      "cell_type": "code",
      "execution_count": null,
      "metadata": {
        "id": "yBIZv0xCpFPa"
      },
      "outputs": [],
      "source": [
        "ptb_train_path = \"ptb.train.txt\"\n",
        "ptb_test_path = \"ptb.test.txt\"\n",
        "ptb_valid_path = \"ptb.valid.txt\"\n",
        "\n",
        "# char version\n",
        "ptb_char_train_path = \"ptb.char.train.txt\"\n",
        "ptb_char_test_path = \"ptb.char.test.txt\"\n",
        "ptb_char_valid_path = \"ptb.char.valid.txt\""
      ]
    },
    {
      "cell_type": "markdown",
      "metadata": {
        "id": "t_g0iNtAnN6C"
      },
      "source": [
        "# Dataset exploration"
      ]
    },
    {
      "cell_type": "markdown",
      "metadata": {
        "id": "wE3O_prf7Wio"
      },
      "source": [
        "## Utilities"
      ]
    },
    {
      "cell_type": "code",
      "execution_count": null,
      "metadata": {
        "id": "bppuAZEohwyI"
      },
      "outputs": [],
      "source": [
        "def get_sents_from_file(file_name: str) -> List[str]:\n",
        "  sents: List[str] = []\n",
        "  with open(f'{DS_PATH}/{file_name}') as file:\n",
        "    for sent in file:\n",
        "      sents.append(sent)\n",
        "  return sents"
      ]
    },
    {
      "cell_type": "code",
      "execution_count": null,
      "metadata": {
        "id": "ExqRvAevqF9h"
      },
      "outputs": [],
      "source": [
        "def get_words_from_sents(sents: List[str]) -> List[str]:\n",
        "  words: List[str] = []\n",
        "  for sent in sents:\n",
        "    words.extend(sent.split())\n",
        "  return words "
      ]
    },
    {
      "cell_type": "code",
      "execution_count": null,
      "metadata": {
        "id": "vH4BKW-sr8-n"
      },
      "outputs": [],
      "source": [
        "def get_vocab(words: List[str]) -> Set[str]:\n",
        "  '''\n",
        "  Penn Treebank is already lowercased\n",
        "  '''\n",
        "  return {w for w in words}"
      ]
    },
    {
      "cell_type": "code",
      "execution_count": null,
      "metadata": {
        "id": "F2lk5Amp8cho"
      },
      "outputs": [],
      "source": [
        "def compute_set_difference(a: Set, b: Set) -> Set:\n",
        "    return a - b"
      ]
    },
    {
      "cell_type": "code",
      "execution_count": null,
      "metadata": {
        "id": "U-_7ZO0X82yb"
      },
      "outputs": [],
      "source": [
        "def compute_set_intersection(a: Set, b: Set) -> Set:\n",
        "    return a.intersection(b)"
      ]
    },
    {
      "cell_type": "code",
      "execution_count": null,
      "metadata": {
        "id": "FxPhRORj5rfO"
      },
      "outputs": [],
      "source": [
        "def plot_stats(\n",
        "        sents: List[List[str]], \n",
        "        words: List[List[str]], \n",
        "        vocabs: List[List[str]]) -> None:\n",
        "\n",
        "    splits = ['train', 'test', 'valid']\n",
        "    cols = ['sentences', 'words', 'vocab size']\n",
        "\n",
        "    data = {col: [len(l) for l in split] for col, split in zip(cols, [sents, words, vocabs])}\n",
        "\n",
        "    table = pd.DataFrame(data, index = splits)\n",
        "    display(table)"
      ]
    },
    {
      "cell_type": "code",
      "execution_count": null,
      "metadata": {
        "id": "YOAhD6yAceQ9"
      },
      "outputs": [],
      "source": [
        "def plot_split_percentage(\n",
        "        sents: List[List[str]], \n",
        "        words: List[List[str]]) -> None:\n",
        "\n",
        "    splits = ['train', 'test', 'valid']\n",
        "    cols = ['sentences', 'words', 'vocab size']\n",
        "\n",
        "\n",
        "    sents_tot = sum([len(l) for l in sents])\n",
        "    words_tot = sum([len(l) for l in words])\n",
        "    sents_perc = [len(l) / sents_tot for l in sents]\n",
        "    words_perc = [len(l) / words_tot for l in words]\n",
        "\n",
        "    fig, axs = plt.subplots(1, 2)\n",
        "    for idx, (col, data) in enumerate(zip(cols, [sents_perc, words_perc])):\n",
        "        axs[idx].set_title(f'{col} split percentage')\n",
        "        axs[idx].pie(\n",
        "            data, \n",
        "            labels = splits, \n",
        "            autopct = '%1.1f%%',\n",
        "            shadow = True, \n",
        "            startangle = 90,\n",
        "            )\n",
        "\n",
        "    plt.show()"
      ]
    },
    {
      "cell_type": "code",
      "execution_count": null,
      "metadata": {
        "id": "WbVFprzb-oqT"
      },
      "outputs": [],
      "source": [
        "def print_oov_words(vocabs: Iterable, train_vocab: Set[str]) -> None:\n",
        "    oov_words_list = []\n",
        "    for vocab in vocabs:\n",
        "        oov_words_list.append(compute_set_difference(vocab, train_vocab))\n",
        "    names = ['test oov words', 'valid oov words']\n",
        "    data = {name: [len(oovs)] for (name, oovs) in zip(names, oov_words_list)}\n",
        "    table = pd.DataFrame(data, index=['size'])\n",
        "    display(table)"
      ]
    },
    {
      "cell_type": "markdown",
      "metadata": {
        "id": "H2HgbM2Q9oeh"
      },
      "source": [
        "## Dataset statistics"
      ]
    },
    {
      "cell_type": "code",
      "execution_count": null,
      "metadata": {
        "id": "oqXErEOmo-ba"
      },
      "outputs": [],
      "source": [
        "sents_train = get_sents_from_file(ptb_train_path)\n",
        "sents_test = get_sents_from_file(ptb_test_path)\n",
        "sents_valid = get_sents_from_file(ptb_valid_path)\n",
        "\n",
        "words_train = get_words_from_sents(sents_train)\n",
        "words_test = get_words_from_sents(sents_test)\n",
        "words_valid = get_words_from_sents(sents_valid)\n",
        "\n",
        "vocab_train = get_vocab(words_train)\n",
        "vocab_test = get_vocab(words_test)\n",
        "vocab_valid = get_vocab(words_valid)"
      ]
    },
    {
      "cell_type": "code",
      "execution_count": null,
      "metadata": {
        "colab": {
          "base_uri": "https://localhost:8080/",
          "height": 143
        },
        "id": "ycydmwUV6CWw",
        "outputId": "ac4fe712-f74e-4f68-e89a-64cbef12dec9"
      },
      "outputs": [
        {
          "data": {
            "text/html": [
              "\n",
              "  <div id=\"df-7e056a08-a6b8-4272-a056-ac1cb4ab3853\">\n",
              "    <div class=\"colab-df-container\">\n",
              "      <div>\n",
              "<style scoped>\n",
              "    .dataframe tbody tr th:only-of-type {\n",
              "        vertical-align: middle;\n",
              "    }\n",
              "\n",
              "    .dataframe tbody tr th {\n",
              "        vertical-align: top;\n",
              "    }\n",
              "\n",
              "    .dataframe thead th {\n",
              "        text-align: right;\n",
              "    }\n",
              "</style>\n",
              "<table border=\"1\" class=\"dataframe\">\n",
              "  <thead>\n",
              "    <tr style=\"text-align: right;\">\n",
              "      <th></th>\n",
              "      <th>sentences</th>\n",
              "      <th>words</th>\n",
              "      <th>vocab size</th>\n",
              "    </tr>\n",
              "  </thead>\n",
              "  <tbody>\n",
              "    <tr>\n",
              "      <th>train</th>\n",
              "      <td>42068</td>\n",
              "      <td>887521</td>\n",
              "      <td>9999</td>\n",
              "    </tr>\n",
              "    <tr>\n",
              "      <th>test</th>\n",
              "      <td>3761</td>\n",
              "      <td>78669</td>\n",
              "      <td>6048</td>\n",
              "    </tr>\n",
              "    <tr>\n",
              "      <th>valid</th>\n",
              "      <td>3370</td>\n",
              "      <td>70390</td>\n",
              "      <td>6021</td>\n",
              "    </tr>\n",
              "  </tbody>\n",
              "</table>\n",
              "</div>\n",
              "      <button class=\"colab-df-convert\" onclick=\"convertToInteractive('df-7e056a08-a6b8-4272-a056-ac1cb4ab3853')\"\n",
              "              title=\"Convert this dataframe to an interactive table.\"\n",
              "              style=\"display:none;\">\n",
              "        \n",
              "  <svg xmlns=\"http://www.w3.org/2000/svg\" height=\"24px\"viewBox=\"0 0 24 24\"\n",
              "       width=\"24px\">\n",
              "    <path d=\"M0 0h24v24H0V0z\" fill=\"none\"/>\n",
              "    <path d=\"M18.56 5.44l.94 2.06.94-2.06 2.06-.94-2.06-.94-.94-2.06-.94 2.06-2.06.94zm-11 1L8.5 8.5l.94-2.06 2.06-.94-2.06-.94L8.5 2.5l-.94 2.06-2.06.94zm10 10l.94 2.06.94-2.06 2.06-.94-2.06-.94-.94-2.06-.94 2.06-2.06.94z\"/><path d=\"M17.41 7.96l-1.37-1.37c-.4-.4-.92-.59-1.43-.59-.52 0-1.04.2-1.43.59L10.3 9.45l-7.72 7.72c-.78.78-.78 2.05 0 2.83L4 21.41c.39.39.9.59 1.41.59.51 0 1.02-.2 1.41-.59l7.78-7.78 2.81-2.81c.8-.78.8-2.07 0-2.86zM5.41 20L4 18.59l7.72-7.72 1.47 1.35L5.41 20z\"/>\n",
              "  </svg>\n",
              "      </button>\n",
              "      \n",
              "  <style>\n",
              "    .colab-df-container {\n",
              "      display:flex;\n",
              "      flex-wrap:wrap;\n",
              "      gap: 12px;\n",
              "    }\n",
              "\n",
              "    .colab-df-convert {\n",
              "      background-color: #E8F0FE;\n",
              "      border: none;\n",
              "      border-radius: 50%;\n",
              "      cursor: pointer;\n",
              "      display: none;\n",
              "      fill: #1967D2;\n",
              "      height: 32px;\n",
              "      padding: 0 0 0 0;\n",
              "      width: 32px;\n",
              "    }\n",
              "\n",
              "    .colab-df-convert:hover {\n",
              "      background-color: #E2EBFA;\n",
              "      box-shadow: 0px 1px 2px rgba(60, 64, 67, 0.3), 0px 1px 3px 1px rgba(60, 64, 67, 0.15);\n",
              "      fill: #174EA6;\n",
              "    }\n",
              "\n",
              "    [theme=dark] .colab-df-convert {\n",
              "      background-color: #3B4455;\n",
              "      fill: #D2E3FC;\n",
              "    }\n",
              "\n",
              "    [theme=dark] .colab-df-convert:hover {\n",
              "      background-color: #434B5C;\n",
              "      box-shadow: 0px 1px 3px 1px rgba(0, 0, 0, 0.15);\n",
              "      filter: drop-shadow(0px 1px 2px rgba(0, 0, 0, 0.3));\n",
              "      fill: #FFFFFF;\n",
              "    }\n",
              "  </style>\n",
              "\n",
              "      <script>\n",
              "        const buttonEl =\n",
              "          document.querySelector('#df-7e056a08-a6b8-4272-a056-ac1cb4ab3853 button.colab-df-convert');\n",
              "        buttonEl.style.display =\n",
              "          google.colab.kernel.accessAllowed ? 'block' : 'none';\n",
              "\n",
              "        async function convertToInteractive(key) {\n",
              "          const element = document.querySelector('#df-7e056a08-a6b8-4272-a056-ac1cb4ab3853');\n",
              "          const dataTable =\n",
              "            await google.colab.kernel.invokeFunction('convertToInteractive',\n",
              "                                                     [key], {});\n",
              "          if (!dataTable) return;\n",
              "\n",
              "          const docLinkHtml = 'Like what you see? Visit the ' +\n",
              "            '<a target=\"_blank\" href=https://colab.research.google.com/notebooks/data_table.ipynb>data table notebook</a>'\n",
              "            + ' to learn more about interactive tables.';\n",
              "          element.innerHTML = '';\n",
              "          dataTable['output_type'] = 'display_data';\n",
              "          await google.colab.output.renderOutput(dataTable, element);\n",
              "          const docLink = document.createElement('div');\n",
              "          docLink.innerHTML = docLinkHtml;\n",
              "          element.appendChild(docLink);\n",
              "        }\n",
              "      </script>\n",
              "    </div>\n",
              "  </div>\n",
              "  "
            ],
            "text/plain": [
              "       sentences   words  vocab size\n",
              "train      42068  887521        9999\n",
              "test        3761   78669        6048\n",
              "valid       3370   70390        6021"
            ]
          },
          "metadata": {},
          "output_type": "display_data"
        }
      ],
      "source": [
        "plot_stats(\n",
        "    [sents_train, sents_test, sents_valid],\n",
        "    [words_train, words_test, words_valid],\n",
        "    [vocab_train, vocab_test, vocab_valid],\n",
        ")"
      ]
    },
    {
      "cell_type": "code",
      "execution_count": null,
      "metadata": {
        "colab": {
          "base_uri": "https://localhost:8080/",
          "height": 199
        },
        "id": "d-64QFFh6p75",
        "outputId": "c3a909f2-2b70-4c79-e09a-26b4d2185daf"
      },
      "outputs": [
        {
          "data": {
            "image/png": "[encoded data removed]",
            "text/plain": [
              "<Figure size 432x288 with 2 Axes>"
            ]
          },
          "metadata": {},
          "output_type": "display_data"
        }
      ],
      "source": [
        "plot_split_percentage(\n",
        "    [sents_train, sents_test, sents_valid],\n",
        "    [words_train, words_test, words_valid]\n",
        ")"
      ]
    },
    {
      "cell_type": "markdown",
      "metadata": {
        "id": "hg1a3Wme9r4l"
      },
      "source": [
        "## OOV words"
      ]
    },
    {
      "cell_type": "code",
      "execution_count": null,
      "metadata": {
        "colab": {
          "base_uri": "https://localhost:8080/",
          "height": 81
        },
        "id": "2P3Zz7mF9tl9",
        "outputId": "3c1ab4ba-75b3-4c47-fede-c733f5550736"
      },
      "outputs": [
        {
          "data": {
            "text/html": [
              "\n",
              "  <div id=\"df-4da3ba23-b818-4ed9-b450-cf819f4f3d4a\">\n",
              "    <div class=\"colab-df-container\">\n",
              "      <div>\n",
              "<style scoped>\n",
              "    .dataframe tbody tr th:only-of-type {\n",
              "        vertical-align: middle;\n",
              "    }\n",
              "\n",
              "    .dataframe tbody tr th {\n",
              "        vertical-align: top;\n",
              "    }\n",
              "\n",
              "    .dataframe thead th {\n",
              "        text-align: right;\n",
              "    }\n",
              "</style>\n",
              "<table border=\"1\" class=\"dataframe\">\n",
              "  <thead>\n",
              "    <tr style=\"text-align: right;\">\n",
              "      <th></th>\n",
              "      <th>test oov words</th>\n",
              "      <th>valid oov words</th>\n",
              "    </tr>\n",
              "  </thead>\n",
              "  <tbody>\n",
              "    <tr>\n",
              "      <th>size</th>\n",
              "      <td>0</td>\n",
              "      <td>0</td>\n",
              "    </tr>\n",
              "  </tbody>\n",
              "</table>\n",
              "</div>\n",
              "      <button class=\"colab-df-convert\" onclick=\"convertToInteractive('df-4da3ba23-b818-4ed9-b450-cf819f4f3d4a')\"\n",
              "              title=\"Convert this dataframe to an interactive table.\"\n",
              "              style=\"display:none;\">\n",
              "        \n",
              "  <svg xmlns=\"http://www.w3.org/2000/svg\" height=\"24px\"viewBox=\"0 0 24 24\"\n",
              "       width=\"24px\">\n",
              "    <path d=\"M0 0h24v24H0V0z\" fill=\"none\"/>\n",
              "    <path d=\"M18.56 5.44l.94 2.06.94-2.06 2.06-.94-2.06-.94-.94-2.06-.94 2.06-2.06.94zm-11 1L8.5 8.5l.94-2.06 2.06-.94-2.06-.94L8.5 2.5l-.94 2.06-2.06.94zm10 10l.94 2.06.94-2.06 2.06-.94-2.06-.94-.94-2.06-.94 2.06-2.06.94z\"/><path d=\"M17.41 7.96l-1.37-1.37c-.4-.4-.92-.59-1.43-.59-.52 0-1.04.2-1.43.59L10.3 9.45l-7.72 7.72c-.78.78-.78 2.05 0 2.83L4 21.41c.39.39.9.59 1.41.59.51 0 1.02-.2 1.41-.59l7.78-7.78 2.81-2.81c.8-.78.8-2.07 0-2.86zM5.41 20L4 18.59l7.72-7.72 1.47 1.35L5.41 20z\"/>\n",
              "  </svg>\n",
              "      </button>\n",
              "      \n",
              "  <style>\n",
              "    .colab-df-container {\n",
              "      display:flex;\n",
              "      flex-wrap:wrap;\n",
              "      gap: 12px;\n",
              "    }\n",
              "\n",
              "    .colab-df-convert {\n",
              "      background-color: #E8F0FE;\n",
              "      border: none;\n",
              "      border-radius: 50%;\n",
              "      cursor: pointer;\n",
              "      display: none;\n",
              "      fill: #1967D2;\n",
              "      height: 32px;\n",
              "      padding: 0 0 0 0;\n",
              "      width: 32px;\n",
              "    }\n",
              "\n",
              "    .colab-df-convert:hover {\n",
              "      background-color: #E2EBFA;\n",
              "      box-shadow: 0px 1px 2px rgba(60, 64, 67, 0.3), 0px 1px 3px 1px rgba(60, 64, 67, 0.15);\n",
              "      fill: #174EA6;\n",
              "    }\n",
              "\n",
              "    [theme=dark] .colab-df-convert {\n",
              "      background-color: #3B4455;\n",
              "      fill: #D2E3FC;\n",
              "    }\n",
              "\n",
              "    [theme=dark] .colab-df-convert:hover {\n",
              "      background-color: #434B5C;\n",
              "      box-shadow: 0px 1px 3px 1px rgba(0, 0, 0, 0.15);\n",
              "      filter: drop-shadow(0px 1px 2px rgba(0, 0, 0, 0.3));\n",
              "      fill: #FFFFFF;\n",
              "    }\n",
              "  </style>\n",
              "\n",
              "      <script>\n",
              "        const buttonEl =\n",
              "          document.querySelector('#df-4da3ba23-b818-4ed9-b450-cf819f4f3d4a button.colab-df-convert');\n",
              "        buttonEl.style.display =\n",
              "          google.colab.kernel.accessAllowed ? 'block' : 'none';\n",
              "\n",
              "        async function convertToInteractive(key) {\n",
              "          const element = document.querySelector('#df-4da3ba23-b818-4ed9-b450-cf819f4f3d4a');\n",
              "          const dataTable =\n",
              "            await google.colab.kernel.invokeFunction('convertToInteractive',\n",
              "                                                     [key], {});\n",
              "          if (!dataTable) return;\n",
              "\n",
              "          const docLinkHtml = 'Like what you see? Visit the ' +\n",
              "            '<a target=\"_blank\" href=https://colab.research.google.com/notebooks/data_table.ipynb>data table notebook</a>'\n",
              "            + ' to learn more about interactive tables.';\n",
              "          element.innerHTML = '';\n",
              "          dataTable['output_type'] = 'display_data';\n",
              "          await google.colab.output.renderOutput(dataTable, element);\n",
              "          const docLink = document.createElement('div');\n",
              "          docLink.innerHTML = docLinkHtml;\n",
              "          element.appendChild(docLink);\n",
              "        }\n",
              "      </script>\n",
              "    </div>\n",
              "  </div>\n",
              "  "
            ],
            "text/plain": [
              "      test oov words  valid oov words\n",
              "size               0                0"
            ]
          },
          "metadata": {},
          "output_type": "display_data"
        }
      ],
      "source": [
        "print_oov_words([vocab_test, vocab_valid], vocab_train)"
      ]
    }
  ],
  "metadata": {
    "accelerator": "GPU",
    "colab": {
      "collapsed_sections": [
        "utlqY-XbKOC5",
        "AMrQaWnQKUts",
        "iEe9---DKarv"
      ],
      "provenance": [],
      "toc_visible": true
    },
    "kernelspec": {
      "display_name": "Python 3",
      "language": "python",
      "name": "python3"
    },
    "language_info": {
      "name": "python",
      "version": "3.9.2 (tags/v3.9.2:1a79785, Feb 19 2021, 13:44:55) [MSC v.1928 64 bit (AMD64)]"
    },
    "vscode": {
      "interpreter": {
        "hash": "cacb7c0752440ae57875e61ca8c19ad4bd67b951182a285e1b608f1dab390800"
      }
    }
  },
  "nbformat": 4,
  "nbformat_minor": 0
}
